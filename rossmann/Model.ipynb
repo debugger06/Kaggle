{
 "cells": [
  {
   "cell_type": "code",
   "execution_count": 1,
   "metadata": {
    "collapsed": false
   },
   "outputs": [],
   "source": [
    "import pandas as pd\n",
    "import numpy as np\n",
    "from sklearn.cross_validation  import train_test_split"
   ]
  },
  {
   "cell_type": "code",
   "execution_count": 2,
   "metadata": {
    "collapsed": false
   },
   "outputs": [
    {
     "name": "stderr",
     "output_type": "stream",
     "text": [
      "/Library/Python/2.7/site-packages/pandas-0.16.0-py2.7-macosx-10.10-intel.egg/pandas/io/parsers.py:1164: DtypeWarning: Columns (7) have mixed types. Specify dtype option on import or set low_memory=False.\n",
      "  data = self._reader.read(nrows)\n"
     ]
    }
   ],
   "source": [
    "train = pd.read_csv(\"train.csv\",sep = ',')\n",
    "store = pd.read_csv(\"store.csv\",sep = ',')\n",
    "test = pd.read_csv(\"test.csv\",sep = ',')"
   ]
  },
  {
   "cell_type": "code",
   "execution_count": 3,
   "metadata": {
    "collapsed": false
   },
   "outputs": [],
   "source": [
    "def toBinary(featureCol, df):\n",
    "    values = set(df[featureCol].unique())\n",
    "    newCol = [featureCol + val for val in values]\n",
    "    for val in values:\n",
    "        df[featureCol + val] = df[featureCol].map(lambda x: 1 if x == val else 0)\n",
    "    return newCol\n",
    "\n",
    "\n",
    "def build_features(features,data):\n",
    "    data.fillna(0,inplace = True)\n",
    "    data.loc[data.Open.isnull(),'Open']=1\n",
    "    features.extend(['Store','CompetitionDistance','CompetitionOpenSinceMonth','CompetitionOpenSinceYear','Promo','Promo2','Promo2SinceYear'])\n",
    "    features.append('SchoolHoliday')\n",
    "    data['SchoolHoliday'] = data['SchoolHoliday'].astype(float)\n",
    "    features.append('StateHoliday')\n",
    "    data.loc[data['StateHoliday'] == 'a','StateHoliday']='1'\n",
    "    data.loc[data['StateHoliday'] == 'b','StateHoliday']='2'\n",
    "    data.loc[data['StateHoliday'] == 'c','StateHoliday']='3'\n",
    "    data['StateHoliday'] = data['StateHoliday'].astype(float)\n",
    "    train['Date'] = pd.to_datetime(train['Date'])\n",
    "    test['Date'] = pd.to_datetime(test['Date'])\n",
    "    features.append('DayOfWeek')\n",
    "    features.append('Month')\n",
    "    features.append('Day')\n",
    "    features.append('Year')\n",
    "    data['Year'] = data.Date.dt.year\n",
    "    data['Month'] = data.Date.dt.month\n",
    "    data['Day'] = data.Date.dt.day\n",
    "    data['DayOfWeek'] = data.Date.dt.dayofweek\n",
    "    for x in ['a','b','c','d']:\n",
    "        features.append('StoreType' + x)\n",
    "        data['StoreType' + x] = data['StoreType'].map(lambda y: 1 if y==x else 0)\n",
    "    newCol = toBinary('Assortment',data)\n",
    "    features +=newCol\n",
    "    "
   ]
  },
  {
   "cell_type": "code",
   "execution_count": 4,
   "metadata": {
    "collapsed": true
   },
   "outputs": [],
   "source": [
    "train.fillna(1, inplace = True)\n",
    "test.fillna(1, inplace = True)"
   ]
  },
  {
   "cell_type": "code",
   "execution_count": 5,
   "metadata": {
    "collapsed": true
   },
   "outputs": [],
   "source": [
    "train = train[train[\"Open\"]!=0]\n",
    "train = train[train[\"Sales\"]>0]"
   ]
  },
  {
   "cell_type": "code",
   "execution_count": 6,
   "metadata": {
    "collapsed": false
   },
   "outputs": [
    {
     "name": "stdout",
     "output_type": "stream",
     "text": [
      "844338\n",
      "['Store', 'DayOfWeek', 'Date', 'Sales', 'Customers', 'Open', 'Promo', 'StateHoliday', 'SchoolHoliday']\n"
     ]
    }
   ],
   "source": [
    "print len(train)\n",
    "print list(train.columns)"
   ]
  },
  {
   "cell_type": "code",
   "execution_count": 7,
   "metadata": {
    "collapsed": true
   },
   "outputs": [],
   "source": [
    "train = pd.merge(train,store, on='Store')\n",
    "test = pd.merge(test,store,on = 'Store')"
   ]
  },
  {
   "cell_type": "code",
   "execution_count": 8,
   "metadata": {
    "collapsed": false
   },
   "outputs": [
    {
     "name": "stdout",
     "output_type": "stream",
     "text": [
      "Index([u'Store', u'DayOfWeek', u'Date', u'Sales', u'Customers', u'Open', u'Promo', u'StateHoliday', u'SchoolHoliday', u'StoreType', u'Assortment', u'CompetitionDistance', u'CompetitionOpenSinceMonth', u'CompetitionOpenSinceYear', u'Promo2', u'Promo2SinceWeek', u'Promo2SinceYear', u'PromoInterval'], dtype='object')\n",
      "   Store  DayOfWeek        Date  Sales  Customers  Open  Promo StateHoliday  \\\n",
      "0      1          5  2015-07-31   5263        555     1      1            0   \n",
      "1      1          4  2015-07-30   5020        546     1      1            0   \n",
      "2      1          3  2015-07-29   4782        523     1      1            0   \n",
      "3      1          2  2015-07-28   5011        560     1      1            0   \n",
      "4      1          1  2015-07-27   6102        612     1      1            0   \n",
      "\n",
      "   SchoolHoliday StoreType Assortment  CompetitionDistance  \\\n",
      "0              1         c          a                 1270   \n",
      "1              1         c          a                 1270   \n",
      "2              1         c          a                 1270   \n",
      "3              1         c          a                 1270   \n",
      "4              1         c          a                 1270   \n",
      "\n",
      "   CompetitionOpenSinceMonth  CompetitionOpenSinceYear  Promo2  \\\n",
      "0                          9                      2008       0   \n",
      "1                          9                      2008       0   \n",
      "2                          9                      2008       0   \n",
      "3                          9                      2008       0   \n",
      "4                          9                      2008       0   \n",
      "\n",
      "   Promo2SinceWeek  Promo2SinceYear PromoInterval  \n",
      "0              NaN              NaN           NaN  \n",
      "1              NaN              NaN           NaN  \n",
      "2              NaN              NaN           NaN  \n",
      "3              NaN              NaN           NaN  \n",
      "4              NaN              NaN           NaN  \n"
     ]
    }
   ],
   "source": [
    "print train.columns\n",
    "print train.head()"
   ]
  },
  {
   "cell_type": "code",
   "execution_count": 9,
   "metadata": {
    "collapsed": false
   },
   "outputs": [],
   "source": [
    "features = []\n",
    "build_features(features,train)\n",
    "build_features([],test)"
   ]
  },
  {
   "cell_type": "code",
   "execution_count": 10,
   "metadata": {
    "collapsed": false
   },
   "outputs": [],
   "source": [
    "X_train, X_valid = train_test_split(train, test_size = 0.012)\n",
    "y_train = X_train.Sales\n",
    "y_valid = X_valid.Sales\n",
    " "
   ]
  },
  {
   "cell_type": "code",
   "execution_count": 11,
   "metadata": {
    "collapsed": true
   },
   "outputs": [],
   "source": [
    "from sklearn.linear_model import LogisticRegression\n",
    "model = LogisticRegression()"
   ]
  },
  {
   "cell_type": "code",
   "execution_count": null,
   "metadata": {
    "collapsed": false
   },
   "outputs": [],
   "source": [
    "model.fit(X_train[features],y_train)"
   ]
  },
  {
   "cell_type": "code",
   "execution_count": null,
   "metadata": {
    "collapsed": false
   },
   "outputs": [],
   "source": [
    "print train.head()"
   ]
  },
  {
   "cell_type": "code",
   "execution_count": 120,
   "metadata": {
    "collapsed": false
   },
   "outputs": [
    {
     "name": "stdout",
     "output_type": "stream",
     "text": [
      "200321    0\n",
      "819018    5\n",
      "51212     3\n",
      "464021    5\n",
      "590091    3\n",
      "814207    2\n",
      "148514    5\n",
      "182389    3\n",
      "91153     5\n",
      "651035    4\n",
      "769023    1\n",
      "669944    4\n",
      "421978    2\n",
      "428374    5\n",
      "78150     2\n",
      "787624    1\n",
      "629808    3\n",
      "659992    4\n",
      "63522     4\n",
      "21051     1\n",
      "333647    5\n",
      "361946    2\n",
      "667343    1\n",
      "777490    5\n",
      "623319    0\n",
      "696277    3\n",
      "521260    3\n",
      "250782    2\n",
      "619729    4\n",
      "383047    2\n",
      "         ..\n",
      "19576     5\n",
      "284295    1\n",
      "441243    1\n",
      "363781    1\n",
      "656307    5\n",
      "465185    5\n",
      "219043    2\n",
      "31564     5\n",
      "264570    2\n",
      "362889    0\n",
      "518575    2\n",
      "149366    5\n",
      "342858    4\n",
      "648284    2\n",
      "676777    5\n",
      "210053    3\n",
      "554370    2\n",
      "425304    2\n",
      "452717    4\n",
      "35065     2\n",
      "459717    2\n",
      "382158    3\n",
      "452003    5\n",
      "169559    4\n",
      "115242    3\n",
      "37603     2\n",
      "74741     1\n",
      "165080    4\n",
      "605922    5\n",
      "157173    2\n",
      "Name: DayOfWeek, dtype: int64\n"
     ]
    }
   ],
   "source": [
    "#print X_train[\"DayOfWeek\"]"
   ]
  },
  {
   "cell_type": "code",
   "execution_count": 98,
   "metadata": {
    "collapsed": false
   },
   "outputs": [
    {
     "name": "stdout",
     "output_type": "stream",
     "text": [
      "        Store  DayOfWeek       Date  Sales  Customers  Open  Promo  \\\n",
      "414977    549          1 2013-04-09   5046        592     1      1   \n",
      "546662    725          3 2015-02-12   5602        566     1      0   \n",
      "680519    901          3 2013-01-17   5616        579     1      0   \n",
      "419495    555          1 2013-04-23   5526        504     1      1   \n",
      "429577    568          3 2013-12-05   6936        512     1      1   \n",
      "800456   1060          2 2014-12-17  10638        982     1      1   \n",
      "714567    947          4 2014-08-22   7304       1038     1      1   \n",
      "450917    596          3 2013-11-21   4280        619     1      1   \n",
      "546635    725          0 2015-03-16   6946        671     1      1   \n",
      "96355     128          3 2014-04-10   6859        549     1      0   \n",
      "116929    156          5 2013-10-05   2797        311     1      0   \n",
      "77489     103          4 2014-06-13   4190        421     1      0   \n",
      "352237    466          0 2013-10-28   4763        536     1      0   \n",
      "771064   1021          3 2013-11-14   7127        939     1      0   \n",
      "199507    265          5 2013-09-21   2325        255     1      0   \n",
      "500847    663          4 2013-07-26   3532        624     1      0   \n",
      "88816     118          4 2013-08-09   6682        662     1      0   \n",
      "492804    653          1 2015-01-06   7728        578     1      1   \n",
      "148058    198          1 2013-05-21   2355        361     1      0   \n",
      "203578    270          1 2013-03-12   7441       1009     1      0   \n",
      "427480    565          1 2013-02-12   5705        724     1      0   \n",
      "772515   1023          2 2014-03-26   4143        462     1      0   \n",
      "154853    207          3 2013-08-15  12634       1483     1      1   \n",
      "677835    898          0 2014-09-08   5103        674     1      0   \n",
      "128469    172          3 2015-04-02   9255       1018     1      1   \n",
      "760763   1007          5 2013-06-15   7144        870     1      0   \n",
      "224639    300          4 2015-01-16   7277        879     1      1   \n",
      "463723    613          4 2013-04-26   5824        952     1      1   \n",
      "594750    787          5 2013-02-02   7632        914     1      0   \n",
      "617616    818          4 2014-10-24   6563        672     1      1   \n",
      "...       ...        ...        ...    ...        ...   ...    ...   \n",
      "510433    676          1 2014-01-07   6994       1574     1      1   \n",
      "331341    439          1 2013-06-25   4100        587     1      0   \n",
      "45919      61          5 2013-03-09   4362        573     1      0   \n",
      "489303    648          5 2014-03-15   6413        635     1      0   \n",
      "720960    955          5 2014-01-25   4160        448     1      0   \n",
      "168514    225          0 2014-03-17   7669        737     1      1   \n",
      "44864      60          0 2014-02-10   6950        687     1      0   \n",
      "197700    263          0 2015-02-16   5315        439     1      1   \n",
      "301507    400          2 2015-06-24   6792       1048     1      0   \n",
      "148242    199          4 2015-05-08   9222        694     1      1   \n",
      "355866    471          2 2014-03-19   7215        557     1      1   \n",
      "613164    812          2 2014-07-30   7335        831     1      1   \n",
      "616077    816          2 2014-09-24   3757        578     1      0   \n",
      "561649    744          0 2013-11-18   9787       1043     1      1   \n",
      "142751    191          5 2013-05-25   8280        764     1      0   \n",
      "788644   1044          5 2013-06-15   5708        844     1      0   \n",
      "778432   1031          4 2014-10-10   4266        417     1      1   \n",
      "525277    695          0 2013-01-07   9318        793     1      1   \n",
      "116242    155          0 2013-06-17   9350        853     1      1   \n",
      "12971      17          4 2013-07-12   5837        780     1      0   \n",
      "573387    759          0 2013-02-18  11024       1122     1      1   \n",
      "644414    853          5 2014-04-05   8025        894     1      0   \n",
      "231672    309          1 2014-06-10   5390        540     1      0   \n",
      "360952    478          3 2014-12-04   8981        822     1      1   \n",
      "701403    930          2 2015-01-07   6130       1037     1      1   \n",
      "532738    706          1 2015-07-28   7108        578     1      1   \n",
      "423665    561          1 2014-11-25   7214        703     1      1   \n",
      "94581     126          1 2015-07-07   4220        437     1      0   \n",
      "601742    796          0 2013-03-04  10312        920     1      1   \n",
      "192036    256          0 2015-04-13   9428       1141     1      1   \n",
      "\n",
      "        StateHoliday  SchoolHoliday StoreType     ...       Year  Month  Day  \\\n",
      "414977             0              0         a     ...       2013      4    9   \n",
      "546662             0              0         d     ...       2015      2   12   \n",
      "680519             0              0         a     ...       2013      1   17   \n",
      "419495             0              0         d     ...       2013      4   23   \n",
      "429577             0              0         d     ...       2013     12    5   \n",
      "800456             0              0         a     ...       2014     12   17   \n",
      "714567             0              1         a     ...       2014      8   22   \n",
      "450917             0              0         c     ...       2013     11   21   \n",
      "546635             0              0         d     ...       2015      3   16   \n",
      "96355              0              0         d     ...       2014      4   10   \n",
      "116929             0              0         a     ...       2013     10    5   \n",
      "77489              0              0         d     ...       2014      6   13   \n",
      "352237             0              1         a     ...       2013     10   28   \n",
      "771064             0              0         a     ...       2013     11   14   \n",
      "199507             0              0         a     ...       2013      9   21   \n",
      "500847             0              1         a     ...       2013      7   26   \n",
      "88816              0              0         d     ...       2013      8    9   \n",
      "492804             0              1         d     ...       2015      1    6   \n",
      "148058             0              0         a     ...       2013      5   21   \n",
      "203578             0              0         a     ...       2013      3   12   \n",
      "427480             0              0         a     ...       2013      2   12   \n",
      "772515             0              0         c     ...       2014      3   26   \n",
      "154853             0              0         a     ...       2013      8   15   \n",
      "677835             0              0         a     ...       2014      9    8   \n",
      "128469             0              1         a     ...       2015      4    2   \n",
      "760763             0              0         c     ...       2013      6   15   \n",
      "224639             0              0         a     ...       2015      1   16   \n",
      "463723             0              0         c     ...       2013      4   26   \n",
      "594750             0              0         c     ...       2013      2    2   \n",
      "617616             0              1         d     ...       2014     10   24   \n",
      "...              ...            ...       ...     ...        ...    ...  ...   \n",
      "510433             0              1         b     ...       2014      1    7   \n",
      "331341             0              1         a     ...       2013      6   25   \n",
      "45919              0              0         a     ...       2013      3    9   \n",
      "489303             0              0         d     ...       2014      3   15   \n",
      "720960             0              0         d     ...       2014      1   25   \n",
      "168514             0              0         d     ...       2014      3   17   \n",
      "44864              0              0         d     ...       2014      2   10   \n",
      "197700             0              1         a     ...       2015      2   16   \n",
      "301507             0              0         a     ...       2015      6   24   \n",
      "148242             0              0         d     ...       2015      5    8   \n",
      "355866             0              0         d     ...       2014      3   19   \n",
      "613164             0              1         d     ...       2014      7   30   \n",
      "616077             0              0         c     ...       2014      9   24   \n",
      "561649             0              0         a     ...       2013     11   18   \n",
      "142751             0              0         a     ...       2013      5   25   \n",
      "788644             0              0         c     ...       2013      6   15   \n",
      "778432             0              1         d     ...       2014     10   10   \n",
      "525277             0              0         a     ...       2013      1    7   \n",
      "116242             0              0         d     ...       2013      6   17   \n",
      "12971              0              0         a     ...       2013      7   12   \n",
      "573387             0              0         a     ...       2013      2   18   \n",
      "644414             0              0         a     ...       2014      4    5   \n",
      "231672             0              1         d     ...       2014      6   10   \n",
      "360952             0              0         d     ...       2014     12    4   \n",
      "701403             0              0         a     ...       2015      1    7   \n",
      "532738             0              0         d     ...       2015      7   28   \n",
      "423665             0              0         d     ...       2014     11   25   \n",
      "94581              0              1         d     ...       2015      7    7   \n",
      "601742             0              0         a     ...       2013      3    4   \n",
      "192036             0              0         a     ...       2015      4   13   \n",
      "\n",
      "        StoreTypea  StoreTypeb  StoreTypec  StoreTyped Assortmenta  \\\n",
      "414977           1           0           0           0           0   \n",
      "546662           0           0           0           1           0   \n",
      "680519           1           0           0           0           0   \n",
      "419495           0           0           0           1           1   \n",
      "429577           0           0           0           1           0   \n",
      "800456           1           0           0           0           0   \n",
      "714567           1           0           0           0           1   \n",
      "450917           0           0           1           0           1   \n",
      "546635           0           0           0           1           0   \n",
      "96355            0           0           0           1           0   \n",
      "116929           1           0           0           0           1   \n",
      "77489            0           0           0           1           0   \n",
      "352237           1           0           0           0           0   \n",
      "771064           1           0           0           0           1   \n",
      "199507           1           0           0           0           1   \n",
      "500847           1           0           0           0           0   \n",
      "88816            0           0           0           1           0   \n",
      "492804           0           0           0           1           0   \n",
      "148058           1           0           0           0           1   \n",
      "203578           1           0           0           0           1   \n",
      "427480           1           0           0           0           0   \n",
      "772515           0           0           1           0           1   \n",
      "154853           1           0           0           0           1   \n",
      "677835           1           0           0           0           1   \n",
      "128469           1           0           0           0           1   \n",
      "760763           0           0           1           0           0   \n",
      "224639           1           0           0           0           0   \n",
      "463723           0           0           1           0           1   \n",
      "594750           0           0           1           0           0   \n",
      "617616           0           0           0           1           1   \n",
      "...            ...         ...         ...         ...         ...   \n",
      "510433           0           1           0           0           0   \n",
      "331341           1           0           0           0           1   \n",
      "45919            1           0           0           0           0   \n",
      "489303           0           0           0           1           1   \n",
      "720960           0           0           0           1           0   \n",
      "168514           0           0           0           1           1   \n",
      "44864            0           0           0           1           0   \n",
      "197700           1           0           0           0           0   \n",
      "301507           1           0           0           0           1   \n",
      "148242           0           0           0           1           0   \n",
      "355866           0           0           0           1           1   \n",
      "613164           0           0           0           1           1   \n",
      "616077           0           0           1           0           0   \n",
      "561649           1           0           0           0           1   \n",
      "142751           1           0           0           0           1   \n",
      "788644           0           0           1           0           1   \n",
      "778432           0           0           0           1           1   \n",
      "525277           1           0           0           0           1   \n",
      "116242           0           0           0           1           1   \n",
      "12971            1           0           0           0           1   \n",
      "573387           1           0           0           0           1   \n",
      "644414           1           0           0           0           1   \n",
      "231672           0           0           0           1           1   \n",
      "360952           0           0           0           1           0   \n",
      "701403           1           0           0           0           1   \n",
      "532738           0           0           0           1           1   \n",
      "423665           0           0           0           1           1   \n",
      "94581            0           0           0           1           1   \n",
      "601742           1           0           0           0           0   \n",
      "192036           1           0           0           0           0   \n",
      "\n",
      "        Assortmentc  Assortmentb  \n",
      "414977            1            0  \n",
      "546662            1            0  \n",
      "680519            1            0  \n",
      "419495            0            0  \n",
      "429577            1            0  \n",
      "800456            1            0  \n",
      "714567            0            0  \n",
      "450917            0            0  \n",
      "546635            1            0  \n",
      "96355             1            0  \n",
      "116929            0            0  \n",
      "77489             1            0  \n",
      "352237            1            0  \n",
      "771064            0            0  \n",
      "199507            0            0  \n",
      "500847            1            0  \n",
      "88816             1            0  \n",
      "492804            1            0  \n",
      "148058            0            0  \n",
      "203578            0            0  \n",
      "427480            1            0  \n",
      "772515            0            0  \n",
      "154853            0            0  \n",
      "677835            0            0  \n",
      "128469            0            0  \n",
      "760763            1            0  \n",
      "224639            1            0  \n",
      "463723            0            0  \n",
      "594750            1            0  \n",
      "617616            0            0  \n",
      "...             ...          ...  \n",
      "510433            0            1  \n",
      "331341            0            0  \n",
      "45919             1            0  \n",
      "489303            0            0  \n",
      "720960            1            0  \n",
      "168514            0            0  \n",
      "44864             1            0  \n",
      "197700            1            0  \n",
      "301507            0            0  \n",
      "148242            1            0  \n",
      "355866            0            0  \n",
      "613164            0            0  \n",
      "616077            1            0  \n",
      "561649            0            0  \n",
      "142751            0            0  \n",
      "788644            0            0  \n",
      "778432            0            0  \n",
      "525277            0            0  \n",
      "116242            0            0  \n",
      "12971             0            0  \n",
      "573387            0            0  \n",
      "644414            0            0  \n",
      "231672            0            0  \n",
      "360952            1            0  \n",
      "701403            0            0  \n",
      "532738            0            0  \n",
      "423665            0            0  \n",
      "94581             0            0  \n",
      "601742            1            0  \n",
      "192036            1            0  \n",
      "\n",
      "[834205 rows x 28 columns]\n"
     ]
    }
   ],
   "source": [
    "print X_train"
   ]
  },
  {
   "cell_type": "code",
   "execution_count": 105,
   "metadata": {
    "collapsed": false
   },
   "outputs": [
    {
     "name": "stdout",
     "output_type": "stream",
     "text": [
      "Index([u'Store', u'StoreType', u'Assortment', u'CompetitionDistance', u'CompetitionOpenSinceMonth', u'CompetitionOpenSinceYear', u'Promo2', u'Promo2SinceWeek', u'Promo2SinceYear', u'PromoInterval'], dtype='object')\n"
     ]
    }
   ],
   "source": [
    "print store.columns"
   ]
  },
  {
   "cell_type": "code",
   "execution_count": null,
   "metadata": {
    "collapsed": true
   },
   "outputs": [],
   "source": []
  }
 ],
 "metadata": {
  "kernelspec": {
   "display_name": "Python 2",
   "language": "python",
   "name": "python2"
  },
  "language_info": {
   "codemirror_mode": {
    "name": "ipython",
    "version": 2
   },
   "file_extension": ".py",
   "mimetype": "text/x-python",
   "name": "python",
   "nbconvert_exporter": "python",
   "pygments_lexer": "ipython2",
   "version": "2.7.10"
  }
 },
 "nbformat": 4,
 "nbformat_minor": 0
}
