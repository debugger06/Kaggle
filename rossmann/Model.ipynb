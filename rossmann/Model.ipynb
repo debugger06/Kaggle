{
 "cells": [
  {
   "cell_type": "code",
   "execution_count": 1,
   "metadata": {
    "collapsed": false
   },
   "outputs": [],
   "source": [
    "import pandas as pd\n",
    "import numpy as np\n",
    "from sklear.cross_validation import train_test_split"
   ]
  },
  {
   "cell_type": "code",
   "execution_count": 10,
   "metadata": {
    "collapsed": false
   },
   "outputs": [],
   "source": [
    "train = pd.read_csv(\"train.csv\",sep = ',')\n",
    "store = pd.read_csv(\"store.csv\",sep = ',')\n",
    "test = pd.read_csv(\"test.csv\",sep = ',')"
   ]
  },
  {
   "cell_type": "code",
   "execution_count": 11,
   "metadata": {
    "collapsed": false
   },
   "outputs": [
    {
     "name": "stdout",
     "output_type": "stream",
     "text": [
      "   Store  DayOfWeek        Date  Sales  Customers  Open  Promo StateHoliday  \\\n",
      "0      1          5  2015-07-31   5263        555     1      1            0   \n",
      "1      2          5  2015-07-31   6064        625     1      1            0   \n",
      "\n",
      "   SchoolHoliday  \n",
      "0              1  \n",
      "1              1  \n"
     ]
    }
   ],
   "source": [
    "print train.head(2)"
   ]
  },
  {
   "cell_type": "code",
   "execution_count": 12,
   "metadata": {
    "collapsed": true
   },
   "outputs": [],
   "source": [
    "train.fillna(1, inplace = True)\n",
    "test.fillna(1, inplace = True)"
   ]
  },
  {
   "cell_type": "code",
   "execution_count": 13,
   "metadata": {
    "collapsed": true
   },
   "outputs": [],
   "source": [
    "train = train[train[\"Open\"]!=0]\n",
    "train = train[train[\"Sales\"]>0]"
   ]
  },
  {
   "cell_type": "code",
   "execution_count": 16,
   "metadata": {
    "collapsed": false
   },
   "outputs": [
    {
     "name": "stdout",
     "output_type": "stream",
     "text": [
      "844338\n",
      "Index([u'Store', u'DayOfWeek', u'Date', u'Sales', u'Customers', u'Open', u'Promo', u'StateHoliday', u'SchoolHoliday'], dtype='object')\n"
     ]
    }
   ],
   "source": [
    "print len(train)\n",
    "print train.columns"
   ]
  },
  {
   "cell_type": "code",
   "execution_count": 17,
   "metadata": {
    "collapsed": true
   },
   "outputs": [],
   "source": [
    "train = pd.merge(train,store, on='Store')\n",
    "test = pd.merge(test,store,on = 'Store')"
   ]
  },
  {
   "cell_type": "code",
   "execution_count": 19,
   "metadata": {
    "collapsed": false
   },
   "outputs": [
    {
     "name": "stdout",
     "output_type": "stream",
     "text": [
      "Index([u'Store', u'DayOfWeek', u'Date', u'Sales', u'Customers', u'Open', u'Promo', u'StateHoliday', u'SchoolHoliday', u'StoreType', u'Assortment', u'CompetitionDistance', u'CompetitionOpenSinceMonth', u'CompetitionOpenSinceYear', u'Promo2', u'Promo2SinceWeek', u'Promo2SinceYear', u'PromoInterval'], dtype='object')\n",
      "   Store  DayOfWeek        Date  Sales  Customers  Open  Promo StateHoliday  \\\n",
      "0      1          5  2015-07-31   5263        555     1      1            0   \n",
      "1      1          4  2015-07-30   5020        546     1      1            0   \n",
      "2      1          3  2015-07-29   4782        523     1      1            0   \n",
      "3      1          2  2015-07-28   5011        560     1      1            0   \n",
      "4      1          1  2015-07-27   6102        612     1      1            0   \n",
      "\n",
      "   SchoolHoliday StoreType Assortment  CompetitionDistance  \\\n",
      "0              1         c          a                 1270   \n",
      "1              1         c          a                 1270   \n",
      "2              1         c          a                 1270   \n",
      "3              1         c          a                 1270   \n",
      "4              1         c          a                 1270   \n",
      "\n",
      "   CompetitionOpenSinceMonth  CompetitionOpenSinceYear  Promo2  \\\n",
      "0                          9                      2008       0   \n",
      "1                          9                      2008       0   \n",
      "2                          9                      2008       0   \n",
      "3                          9                      2008       0   \n",
      "4                          9                      2008       0   \n",
      "\n",
      "   Promo2SinceWeek  Promo2SinceYear PromoInterval  \n",
      "0              NaN              NaN           NaN  \n",
      "1              NaN              NaN           NaN  \n",
      "2              NaN              NaN           NaN  \n",
      "3              NaN              NaN           NaN  \n",
      "4              NaN              NaN           NaN  \n"
     ]
    }
   ],
   "source": [
    "print train.columns\n",
    "print train.head()"
   ]
  },
  {
   "cell_type": "code",
   "execution_count": null,
   "metadata": {
    "collapsed": true
   },
   "outputs": [],
   "source": [
    "features = []"
   ]
  }
 ],
 "metadata": {
  "kernelspec": {
   "display_name": "Python 2",
   "language": "python",
   "name": "python2"
  },
  "language_info": {
   "codemirror_mode": {
    "name": "ipython",
    "version": 2
   },
   "file_extension": ".py",
   "mimetype": "text/x-python",
   "name": "python",
   "nbconvert_exporter": "python",
   "pygments_lexer": "ipython2",
   "version": "2.7.10"
  }
 },
 "nbformat": 4,
 "nbformat_minor": 0
}
