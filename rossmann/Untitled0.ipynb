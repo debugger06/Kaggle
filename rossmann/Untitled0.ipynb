{
 "metadata": {
  "name": "Untitled0"
 },
 "nbformat": 3,
 "nbformat_minor": 0,
 "worksheets": [
  {
   "cells": [
    {
     "cell_type": "code",
     "collapsed": false,
     "input": [
      "import pandas as pd\n",
      "import numpy as np"
     ],
     "language": "python",
     "metadata": {},
     "outputs": [],
     "prompt_number": 1
    },
    {
     "cell_type": "code",
     "collapsed": false,
     "input": [
      "train = pd.read_csv(\"train.csv\",sep = ',')\n",
      "store = pd.read_csv(\"store.csv\",sep = ',')\n",
      "test = pd.read_csv(\"test.csv\",sep = ',')"
     ],
     "language": "python",
     "metadata": {},
     "outputs": [],
     "prompt_number": 27
    },
    {
     "cell_type": "code",
     "collapsed": false,
     "input": [
      "rtrain,ctrain = train.shape\n",
      "rtest,ctest = test.shape\n",
      "rstore,cstore = store.shape\n",
      "#print rtrain,ctrain\n",
      "#print rtest,ctest\n",
      "#print rstore,cstore"
     ],
     "language": "python",
     "metadata": {},
     "outputs": [],
     "prompt_number": 28
    },
    {
     "cell_type": "code",
     "collapsed": false,
     "input": [
      "def pstr(df): \n",
      "    return df.shape, df.apply(lambda x: [x.unique()])"
     ],
     "language": "python",
     "metadata": {},
     "outputs": [],
     "prompt_number": 29
    },
    {
     "cell_type": "code",
     "collapsed": false,
     "input": [
      "print pstr(train)"
     ],
     "language": "python",
     "metadata": {},
     "outputs": [
      {
       "output_type": "stream",
       "stream": "stdout",
       "text": [
        "((1017209, 9), Store            [[1, 2, 3, 4, 5, 6, 7, 8, 9, 10, 11, 12, 13, 1...\n",
        "DayOfWeek                                  [[5, 4, 3, 2, 1, 7, 6]]\n",
        "Date             [[2015-07-31, 2015-07-30, 2015-07-29, 2015-07-...\n",
        "Sales            [[5263, 6064, 8314, 13995, 4822, 5651, 15344, ...\n",
        "Customers        [[555, 625, 821, 1498, 559, 589, 1414, 833, 68...\n",
        "Open                                                      [[1, 0]]\n",
        "Promo                                                     [[1, 0]]\n",
        "StateHoliday                                     [[0, a, b, c, 0]]\n",
        "SchoolHoliday                                             [[1, 0]]\n",
        "dtype: object)\n"
       ]
      }
     ],
     "prompt_number": 30
    },
    {
     "cell_type": "code",
     "collapsed": false,
     "input": [
      "print pstr(test)"
     ],
     "language": "python",
     "metadata": {},
     "outputs": [
      {
       "output_type": "stream",
       "stream": "stdout",
       "text": [
        "((41088, 8), Id               [[1, 2, 3, 4, 5, 6, 7, 8, 9, 10, 11, 12, 13, 1...\n",
        "Store            [[1, 3, 7, 8, 9, 10, 11, 12, 13, 14, 15, 16, 1...\n",
        "DayOfWeek                                  [[4, 3, 2, 1, 7, 6, 5]]\n",
        "Date             [[2015-09-17, 2015-09-16, 2015-09-15, 2015-09-...\n",
        "Open                                             [[1.0, nan, 0.0]]\n",
        "Promo                                                     [[1, 0]]\n",
        "StateHoliday                                              [[0, a]]\n",
        "SchoolHoliday                                             [[0, 1]]\n",
        "dtype: object)\n"
       ]
      }
     ],
     "prompt_number": 31
    },
    {
     "cell_type": "code",
     "collapsed": false,
     "input": [
      "print pstr(store)"
     ],
     "language": "python",
     "metadata": {},
     "outputs": [
      {
       "output_type": "stream",
       "stream": "stdout",
       "text": [
        "((1115, 10), Store                        [[1, 2, 3, 4, 5, 6, 7, 8, 9, 10, 11, 12, 13, 1...\n",
        "StoreType                                                       [[c, a, d, b]]\n",
        "Assortment                                                         [[a, c, b]]\n",
        "CompetitionDistance          [[1270.0, 570.0, 14130.0, 620.0, 29910.0, 310....\n",
        "CompetitionOpenSinceMonth    [[9.0, 11.0, 12.0, 4.0, 10.0, 8.0, nan, 3.0, 6...\n",
        "CompetitionOpenSinceYear     [[2008.0, 2007.0, 2006.0, 2009.0, 2015.0, 2013...\n",
        "Promo2                                                                [[0, 1]]\n",
        "Promo2SinceWeek              [[nan, 13.0, 14.0, 1.0, 45.0, 40.0, 26.0, 22.0...\n",
        "Promo2SinceYear              [[nan, 2010.0, 2011.0, 2012.0, 2009.0, 2014.0,...\n",
        "PromoInterval                [[nan, Jan,Apr,Jul,Oct, Feb,May,Aug,Nov, Mar,J...\n",
        "dtype: object)\n"
       ]
      }
     ],
     "prompt_number": 32
    },
    {
     "cell_type": "code",
     "collapsed": false,
     "input": [
      "train['Date'] = pd.to_datetime(train['Date'])\n",
      "test['Date'] = pd.to_datetime(test['Date'])"
     ],
     "language": "python",
     "metadata": {},
     "outputs": [],
     "prompt_number": 35
    },
    {
     "cell_type": "code",
     "collapsed": false,
     "input": [
      "print test['Date'].head()"
     ],
     "language": "python",
     "metadata": {},
     "outputs": [
      {
       "output_type": "stream",
       "stream": "stdout",
       "text": [
        "0   2015-09-17\n",
        "1   2015-09-17\n",
        "2   2015-09-17\n",
        "3   2015-09-17\n",
        "4   2015-09-17\n",
        "Name: Date, dtype: datetime64[ns]\n"
       ]
      }
     ],
     "prompt_number": 34
    },
    {
     "cell_type": "code",
     "collapsed": false,
     "input": [
      "print train.describe()"
     ],
     "language": "python",
     "metadata": {},
     "outputs": [
      {
       "output_type": "stream",
       "stream": "stdout",
       "text": [
        "                Store       DayOfWeek           Sales       Customers  \\\n",
        "count  1017209.000000  1017209.000000  1017209.000000  1017209.000000   \n",
        "mean       558.429727        3.998341     5773.818972      633.145946   \n",
        "std        321.908651        1.997391     3849.926175      464.411734   \n",
        "min          1.000000        1.000000        0.000000        0.000000   \n",
        "25%        280.000000        2.000000     3727.000000      405.000000   \n",
        "50%        558.000000        4.000000     5744.000000      609.000000   \n",
        "75%        838.000000        6.000000     7856.000000      837.000000   \n",
        "max       1115.000000        7.000000    41551.000000     7388.000000   \n",
        "\n",
        "                 Open           Promo   SchoolHoliday  \n",
        "count  1017209.000000  1017209.000000  1017209.000000  \n",
        "mean         0.830107        0.381515        0.178647  \n",
        "std          0.375539        0.485759        0.383056  \n",
        "min          0.000000        0.000000        0.000000  \n",
        "25%          1.000000        0.000000        0.000000  \n",
        "50%          1.000000        0.000000        0.000000  \n",
        "75%          1.000000        1.000000        0.000000  \n",
        "max          1.000000        1.000000        1.000000  \n"
       ]
      }
     ],
     "prompt_number": 37
    },
    {
     "cell_type": "code",
     "collapsed": false,
     "input": [
      "print test.describe()"
     ],
     "language": "python",
     "metadata": {},
     "outputs": [
      {
       "output_type": "stream",
       "stream": "stdout",
       "text": [
        "                 Id         Store     DayOfWeek          Open         Promo  \\\n",
        "count  41088.000000  41088.000000  41088.000000  41077.000000  41088.000000   \n",
        "mean   20544.500000    555.899533      3.979167      0.854322      0.395833   \n",
        "std    11861.228267    320.274496      2.015481      0.352787      0.489035   \n",
        "min        1.000000      1.000000      1.000000      0.000000      0.000000   \n",
        "25%    10272.750000    279.750000      2.000000      1.000000      0.000000   \n",
        "50%    20544.500000    553.500000      4.000000      1.000000      0.000000   \n",
        "75%    30816.250000    832.250000      6.000000      1.000000      1.000000   \n",
        "max    41088.000000   1115.000000      7.000000      1.000000      1.000000   \n",
        "\n",
        "       SchoolHoliday  \n",
        "count   41088.000000  \n",
        "mean        0.443487  \n",
        "std         0.496802  \n",
        "min         0.000000  \n",
        "25%         0.000000  \n",
        "50%         0.000000  \n",
        "75%         1.000000  \n",
        "max         1.000000  \n"
       ]
      }
     ],
     "prompt_number": 38
    },
    {
     "cell_type": "code",
     "collapsed": false,
     "input": [
      "col = train.columns\n",
      "for i in col:\n",
      "    if train[i].isnull().any():\n",
      "        print i"
     ],
     "language": "python",
     "metadata": {},
     "outputs": [],
     "prompt_number": 50
    },
    {
     "cell_type": "code",
     "collapsed": false,
     "input": [
      "col = test.columns\n",
      "print test[test.isnull().any(axis=1)]"
     ],
     "language": "python",
     "metadata": {},
     "outputs": [
      {
       "output_type": "stream",
       "stream": "stdout",
       "text": [
        "          Id  Store  DayOfWeek       Date  Open  Promo StateHoliday  \\\n",
        "479      480    622          4 2015-09-17   NaN      1            0   \n",
        "1335    1336    622          3 2015-09-16   NaN      1            0   \n",
        "2191    2192    622          2 2015-09-15   NaN      1            0   \n",
        "3047    3048    622          1 2015-09-14   NaN      1            0   \n",
        "4759    4760    622          6 2015-09-12   NaN      0            0   \n",
        "5615    5616    622          5 2015-09-11   NaN      0            0   \n",
        "6471    6472    622          4 2015-09-10   NaN      0            0   \n",
        "7327    7328    622          3 2015-09-09   NaN      0            0   \n",
        "8183    8184    622          2 2015-09-08   NaN      0            0   \n",
        "9039    9040    622          1 2015-09-07   NaN      0            0   \n",
        "10751  10752    622          6 2015-09-05   NaN      0            0   \n",
        "\n",
        "       SchoolHoliday  \n",
        "479                0  \n",
        "1335               0  \n",
        "2191               0  \n",
        "3047               0  \n",
        "4759               0  \n",
        "5615               0  \n",
        "6471               0  \n",
        "7327               0  \n",
        "8183               0  \n",
        "9039               0  \n",
        "10751              0  \n"
       ]
      }
     ],
     "prompt_number": 53
    },
    {
     "cell_type": "code",
     "collapsed": false,
     "input": [],
     "language": "python",
     "metadata": {},
     "outputs": []
    }
   ],
   "metadata": {}
  }
 ]
}