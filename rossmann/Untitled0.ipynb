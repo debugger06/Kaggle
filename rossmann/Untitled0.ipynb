{
 "metadata": {
  "name": "Untitled0"
 },
 "nbformat": 3,
 "nbformat_minor": 0,
 "worksheets": [
  {
   "cells": [
    {
     "cell_type": "code",
     "collapsed": false,
     "input": [
      "import pandas as pd\n",
      "import numpy as np"
     ],
     "language": "python",
     "metadata": {},
     "outputs": [],
     "prompt_number": 1
    },
    {
     "cell_type": "code",
     "collapsed": false,
     "input": [
      "train = pd.read_csv(\"train.csv\",sep = ',')\n",
      "store = pd.read_csv(\"store.csv\",sep = ',')\n",
      "test = pd.read_csv(\"test.csv\",sep = ',')"
     ],
     "language": "python",
     "metadata": {},
     "outputs": [],
     "prompt_number": 27
    },
    {
     "cell_type": "code",
     "collapsed": false,
     "input": [
      "rtrain,ctrain = train.shape\n",
      "rtest,ctest = test.shape\n",
      "rstore,cstore = store.shape\n",
      "#print rtrain,ctrain\n",
      "#print rtest,ctest\n",
      "#print rstore,cstore"
     ],
     "language": "python",
     "metadata": {},
     "outputs": [],
     "prompt_number": 28
    },
    {
     "cell_type": "code",
     "collapsed": false,
     "input": [
      "def pstr(df): \n",
      "    return df.shape, df.apply(lambda x: [x.unique()])"
     ],
     "language": "python",
     "metadata": {},
     "outputs": [],
     "prompt_number": 29
    },
    {
     "cell_type": "code",
     "collapsed": false,
     "input": [
      "print pstr(train)"
     ],
     "language": "python",
     "metadata": {},
     "outputs": [
      {
       "output_type": "stream",
       "stream": "stdout",
       "text": [
        "((1017209, 9), Store            [[1, 2, 3, 4, 5, 6, 7, 8, 9, 10, 11, 12, 13, 1...\n",
        "DayOfWeek                                  [[5, 4, 3, 2, 1, 7, 6]]\n",
        "Date             [[2015-07-31, 2015-07-30, 2015-07-29, 2015-07-...\n",
        "Sales            [[5263, 6064, 8314, 13995, 4822, 5651, 15344, ...\n",
        "Customers        [[555, 625, 821, 1498, 559, 589, 1414, 833, 68...\n",
        "Open                                                      [[1, 0]]\n",
        "Promo                                                     [[1, 0]]\n",
        "StateHoliday                                     [[0, a, b, c, 0]]\n",
        "SchoolHoliday                                             [[1, 0]]\n",
        "dtype: object)\n"
       ]
      }
     ],
     "prompt_number": 30
    },
    {
     "cell_type": "code",
     "collapsed": false,
     "input": [
      "print pstr(test)"
     ],
     "language": "python",
     "metadata": {},
     "outputs": [
      {
       "output_type": "stream",
       "stream": "stdout",
       "text": [
        "((41088, 8), Id               [[1, 2, 3, 4, 5, 6, 7, 8, 9, 10, 11, 12, 13, 1...\n",
        "Store            [[1, 3, 7, 8, 9, 10, 11, 12, 13, 14, 15, 16, 1...\n",
        "DayOfWeek                                  [[4, 3, 2, 1, 7, 6, 5]]\n",
        "Date             [[2015-09-17, 2015-09-16, 2015-09-15, 2015-09-...\n",
        "Open                                             [[1.0, nan, 0.0]]\n",
        "Promo                                                     [[1, 0]]\n",
        "StateHoliday                                              [[0, a]]\n",
        "SchoolHoliday                                             [[0, 1]]\n",
        "dtype: object)\n"
       ]
      }
     ],
     "prompt_number": 31
    },
    {
     "cell_type": "code",
     "collapsed": false,
     "input": [
      "print pstr(store)"
     ],
     "language": "python",
     "metadata": {},
     "outputs": [
      {
       "output_type": "stream",
       "stream": "stdout",
       "text": [
        "((1115, 10), Store                        [[1, 2, 3, 4, 5, 6, 7, 8, 9, 10, 11, 12, 13, 1...\n",
        "StoreType                                                       [[c, a, d, b]]\n",
        "Assortment                                                         [[a, c, b]]\n",
        "CompetitionDistance          [[1270.0, 570.0, 14130.0, 620.0, 29910.0, 310....\n",
        "CompetitionOpenSinceMonth    [[9.0, 11.0, 12.0, 4.0, 10.0, 8.0, nan, 3.0, 6...\n",
        "CompetitionOpenSinceYear     [[2008.0, 2007.0, 2006.0, 2009.0, 2015.0, 2013...\n",
        "Promo2                                                                [[0, 1]]\n",
        "Promo2SinceWeek              [[nan, 13.0, 14.0, 1.0, 45.0, 40.0, 26.0, 22.0...\n",
        "Promo2SinceYear              [[nan, 2010.0, 2011.0, 2012.0, 2009.0, 2014.0,...\n",
        "PromoInterval                [[nan, Jan,Apr,Jul,Oct, Feb,May,Aug,Nov, Mar,J...\n",
        "dtype: object)\n"
       ]
      }
     ],
     "prompt_number": 32
    },
    {
     "cell_type": "code",
     "collapsed": false,
     "input": [
      "train['Date'] = pd.to_datetime(train['Date'])\n",
      "test['Date'] = pd.to_datetime(test['Date'])"
     ],
     "language": "python",
     "metadata": {},
     "outputs": [],
     "prompt_number": 35
    },
    {
     "cell_type": "code",
     "collapsed": false,
     "input": [
      "print test['Date'].head()"
     ],
     "language": "python",
     "metadata": {},
     "outputs": [
      {
       "output_type": "stream",
       "stream": "stdout",
       "text": [
        "0   2015-09-17\n",
        "1   2015-09-17\n",
        "2   2015-09-17\n",
        "3   2015-09-17\n",
        "4   2015-09-17\n",
        "Name: Date, dtype: datetime64[ns]\n"
       ]
      }
     ],
     "prompt_number": 34
    },
    {
     "cell_type": "code",
     "collapsed": false,
     "input": [
      "train = train.sort(['Date'],ascending = [1])\n",
      "test = test.sort(['Date'],ascending = [1])"
     ],
     "language": "python",
     "metadata": {},
     "outputs": [],
     "prompt_number": 74
    },
    {
     "cell_type": "code",
     "collapsed": false,
     "input": [
      "print train.describe()"
     ],
     "language": "python",
     "metadata": {},
     "outputs": [
      {
       "output_type": "stream",
       "stream": "stdout",
       "text": [
        "                Store       DayOfWeek           Sales       Customers  \\\n",
        "count  1017209.000000  1017209.000000  1017209.000000  1017209.000000   \n",
        "mean       558.429727        3.998341     5773.818972      633.145946   \n",
        "std        321.908651        1.997391     3849.926175      464.411734   \n",
        "min          1.000000        1.000000        0.000000        0.000000   \n",
        "25%        280.000000        2.000000     3727.000000      405.000000   \n",
        "50%        558.000000        4.000000     5744.000000      609.000000   \n",
        "75%        838.000000        6.000000     7856.000000      837.000000   \n",
        "max       1115.000000        7.000000    41551.000000     7388.000000   \n",
        "\n",
        "                 Open           Promo   SchoolHoliday  \n",
        "count  1017209.000000  1017209.000000  1017209.000000  \n",
        "mean         0.830107        0.381515        0.178647  \n",
        "std          0.375539        0.485759        0.383056  \n",
        "min          0.000000        0.000000        0.000000  \n",
        "25%          1.000000        0.000000        0.000000  \n",
        "50%          1.000000        0.000000        0.000000  \n",
        "75%          1.000000        1.000000        0.000000  \n",
        "max          1.000000        1.000000        1.000000  \n"
       ]
      }
     ],
     "prompt_number": 75
    },
    {
     "cell_type": "code",
     "collapsed": false,
     "input": [
      "print test.describe()"
     ],
     "language": "python",
     "metadata": {},
     "outputs": [
      {
       "output_type": "stream",
       "stream": "stdout",
       "text": [
        "                 Id         Store     DayOfWeek          Open         Promo  \\\n",
        "count  41088.000000  41088.000000  41088.000000  41077.000000  41088.000000   \n",
        "mean   20544.500000    555.899533      3.979167      0.854322      0.395833   \n",
        "std    11861.228267    320.274496      2.015481      0.352787      0.489035   \n",
        "min        1.000000      1.000000      1.000000      0.000000      0.000000   \n",
        "25%    10272.750000    279.750000      2.000000      1.000000      0.000000   \n",
        "50%    20544.500000    553.500000      4.000000      1.000000      0.000000   \n",
        "75%    30816.250000    832.250000      6.000000      1.000000      1.000000   \n",
        "max    41088.000000   1115.000000      7.000000      1.000000      1.000000   \n",
        "\n",
        "       SchoolHoliday  \n",
        "count   41088.000000  \n",
        "mean        0.443487  \n",
        "std         0.496802  \n",
        "min         0.000000  \n",
        "25%         0.000000  \n",
        "50%         0.000000  \n",
        "75%         1.000000  \n",
        "max         1.000000  \n"
       ]
      }
     ],
     "prompt_number": 76
    },
    {
     "cell_type": "code",
     "collapsed": false,
     "input": [
      "print train.isnull().any().any()"
     ],
     "language": "python",
     "metadata": {},
     "outputs": [
      {
       "output_type": "stream",
       "stream": "stdout",
       "text": [
        "False\n"
       ]
      }
     ],
     "prompt_number": 86
    },
    {
     "cell_type": "code",
     "collapsed": false,
     "input": [
      "col = test.columns\n",
      "print test[test.isnull().any(axis=1)]"
     ],
     "language": "python",
     "metadata": {},
     "outputs": [
      {
       "output_type": "stream",
       "stream": "stdout",
       "text": [
        "          Id  Store  DayOfWeek       Date  Open  Promo StateHoliday  \\\n",
        "10751  10752    622          6 2015-09-05   NaN      0            0   \n",
        "9039    9040    622          1 2015-09-07   NaN      0            0   \n",
        "8183    8184    622          2 2015-09-08   NaN      0            0   \n",
        "7327    7328    622          3 2015-09-09   NaN      0            0   \n",
        "6471    6472    622          4 2015-09-10   NaN      0            0   \n",
        "5615    5616    622          5 2015-09-11   NaN      0            0   \n",
        "4759    4760    622          6 2015-09-12   NaN      0            0   \n",
        "3047    3048    622          1 2015-09-14   NaN      1            0   \n",
        "2191    2192    622          2 2015-09-15   NaN      1            0   \n",
        "1335    1336    622          3 2015-09-16   NaN      1            0   \n",
        "479      480    622          4 2015-09-17   NaN      1            0   \n",
        "\n",
        "       SchoolHoliday  \n",
        "10751              0  \n",
        "9039               0  \n",
        "8183               0  \n",
        "7327               0  \n",
        "6471               0  \n",
        "5615               0  \n",
        "4759               0  \n",
        "3047               0  \n",
        "2191               0  \n",
        "1335               0  \n",
        "479                0  \n"
       ]
      }
     ],
     "prompt_number": 78
    },
    {
     "cell_type": "code",
     "collapsed": false,
     "input": [
      "print test.loc[test['Store']==622,'Open']"
     ],
     "language": "python",
     "metadata": {},
     "outputs": [
      {
       "output_type": "stream",
       "stream": "stdout",
       "text": [
        "479     NaN\n",
        "1335    NaN\n",
        "2191    NaN\n",
        "3047    NaN\n",
        "3903      0\n",
        "4759    NaN\n",
        "5615    NaN\n",
        "6471    NaN\n",
        "7327    NaN\n",
        "8183    NaN\n",
        "9039    NaN\n",
        "9895      0\n",
        "10751   NaN\n",
        "11607     1\n",
        "12463     1\n",
        "13319     1\n",
        "14175     1\n",
        "15031     1\n",
        "15887     0\n",
        "16743     1\n",
        "17599     1\n",
        "18455     1\n",
        "19311     1\n",
        "20167     1\n",
        "21023     1\n",
        "21879     0\n",
        "22735     1\n",
        "23591     1\n",
        "24447     1\n",
        "25303     1\n",
        "26159     1\n",
        "27015     1\n",
        "27871     0\n",
        "28727     1\n",
        "29583     1\n",
        "30439     1\n",
        "31295     1\n",
        "32151     1\n",
        "33007     1\n",
        "33863     0\n",
        "34719     1\n",
        "35575     1\n",
        "36431     1\n",
        "37287     1\n",
        "38143     1\n",
        "38999     1\n",
        "39855     0\n",
        "40711     1\n",
        "Name: Open, dtype: float64\n"
       ]
      }
     ],
     "prompt_number": 70
    },
    {
     "cell_type": "code",
     "collapsed": false,
     "input": [
      "test = test.fillna(1)"
     ],
     "language": "python",
     "metadata": {},
     "outputs": [],
     "prompt_number": 81
    },
    {
     "cell_type": "code",
     "collapsed": false,
     "input": [
      "print train.columns\n",
      "print test.columns"
     ],
     "language": "python",
     "metadata": {},
     "outputs": [
      {
       "output_type": "stream",
       "stream": "stdout",
       "text": [
        "Index([u'Store', u'DayOfWeek', u'Date', u'Sales', u'Customers', u'Open',\n",
        "       u'Promo', u'StateHoliday', u'SchoolHoliday'],\n",
        "      dtype='object')\n",
        "Index([u'Id', u'Store', u'DayOfWeek', u'Date', u'Open', u'Promo',\n",
        "       u'StateHoliday', u'SchoolHoliday'],\n",
        "      dtype='object')\n"
       ]
      }
     ],
     "prompt_number": 94
    },
    {
     "cell_type": "code",
     "collapsed": false,
     "input": [
      "train.loc[train['StateHoliday']==0,'StateHoliday']='0'"
     ],
     "language": "python",
     "metadata": {},
     "outputs": [],
     "prompt_number": 105
    },
    {
     "cell_type": "code",
     "collapsed": false,
     "input": [
      "print train['StateHoliday'].unique()"
     ],
     "language": "python",
     "metadata": {},
     "outputs": [
      {
       "output_type": "stream",
       "stream": "stdout",
       "text": [
        "['a' '0' 'b' 'c']\n"
       ]
      }
     ],
     "prompt_number": 106
    },
    {
     "cell_type": "code",
     "collapsed": false,
     "input": [
      "print pd.value_counts(train['StateHoliday'])/len(train)"
     ],
     "language": "python",
     "metadata": {},
     "outputs": [
      {
       "output_type": "stream",
       "stream": "stdout",
       "text": [
        "0    0.969475\n",
        "a    0.019917\n",
        "b    0.006577\n",
        "c    0.004031\n",
        "dtype: float64\n"
       ]
      }
     ],
     "prompt_number": 117
    },
    {
     "cell_type": "code",
     "collapsed": false,
     "input": [
      "print train['SchoolHoliday'].unique()"
     ],
     "language": "python",
     "metadata": {},
     "outputs": [
      {
       "output_type": "stream",
       "stream": "stdout",
       "text": [
        "[1 0]\n"
       ]
      }
     ],
     "prompt_number": 113
    },
    {
     "cell_type": "code",
     "collapsed": false,
     "input": [
      "print pd.value_counts(train['SchoolHoliday'])/len(train)"
     ],
     "language": "python",
     "metadata": {},
     "outputs": [
      {
       "output_type": "stream",
       "stream": "stdout",
       "text": [
        "0    0.821353\n",
        "1    0.178647\n",
        "dtype: float64\n"
       ]
      }
     ],
     "prompt_number": 116
    },
    {
     "cell_type": "code",
     "collapsed": false,
     "input": [
      "print train[train['Customers']==0]"
     ],
     "language": "python",
     "metadata": {},
     "outputs": [
      {
       "output_type": "stream",
       "stream": "stdout",
       "text": [
        "         Store  DayOfWeek       Date  Sales  Customers  Open  Promo  \\\n",
        "1017208   1115          2 2013-01-01      0          0     0      0   \n",
        "1017205   1112          2 2013-01-01      0          0     0      0   \n",
        "1017204   1111          2 2013-01-01      0          0     0      0   \n",
        "1017203   1110          2 2013-01-01      0          0     0      0   \n",
        "1017202   1109          2 2013-01-01      0          0     0      0   \n",
        "1017201   1108          2 2013-01-01      0          0     0      0   \n",
        "1017200   1107          2 2013-01-01      0          0     0      0   \n",
        "1017199   1106          2 2013-01-01      0          0     0      0   \n",
        "1017198   1105          2 2013-01-01      0          0     0      0   \n",
        "1017197   1104          2 2013-01-01      0          0     0      0   \n",
        "1017196   1103          2 2013-01-01      0          0     0      0   \n",
        "1017195   1102          2 2013-01-01      0          0     0      0   \n",
        "1017194   1101          2 2013-01-01      0          0     0      0   \n",
        "1017193   1100          2 2013-01-01      0          0     0      0   \n",
        "1017192   1099          2 2013-01-01      0          0     0      0   \n",
        "1017206   1113          2 2013-01-01      0          0     0      0   \n",
        "1017191   1098          2 2013-01-01      0          0     0      0   \n",
        "1017176   1083          2 2013-01-01      0          0     0      0   \n",
        "1017177   1084          2 2013-01-01      0          0     0      0   \n",
        "1017178   1085          2 2013-01-01      0          0     0      0   \n",
        "1017179   1086          2 2013-01-01      0          0     0      0   \n",
        "1017180   1087          2 2013-01-01      0          0     0      0   \n",
        "1017181   1088          2 2013-01-01      0          0     0      0   \n",
        "1017174   1081          2 2013-01-01      0          0     0      0   \n",
        "1017182   1089          2 2013-01-01      0          0     0      0   \n",
        "1017184   1091          2 2013-01-01      0          0     0      0   \n",
        "1017185   1092          2 2013-01-01      0          0     0      0   \n",
        "1017186   1093          2 2013-01-01      0          0     0      0   \n",
        "1017187   1094          2 2013-01-01      0          0     0      0   \n",
        "1017188   1095          2 2013-01-01      0          0     0      0   \n",
        "...        ...        ...        ...    ...        ...   ...    ...   \n",
        "5602        28          7 2015-07-26      0          0     0      0   \n",
        "5606        32          7 2015-07-26      0          0     0      0   \n",
        "5597        23          7 2015-07-26      0          0     0      0   \n",
        "5588        14          7 2015-07-26      0          0     0      0   \n",
        "5603        29          7 2015-07-26      0          0     0      0   \n",
        "5575         1          7 2015-07-26      0          0     0      0   \n",
        "6130       556          7 2015-07-26      0          0     0      0   \n",
        "5581         7          7 2015-07-26      0          0     0      0   \n",
        "5587        13          7 2015-07-26      0          0     0      0   \n",
        "5586        12          7 2015-07-26      0          0     0      0   \n",
        "5584        10          7 2015-07-26      0          0     0      0   \n",
        "5583         9          7 2015-07-26      0          0     0      0   \n",
        "5585        11          7 2015-07-26      0          0     0      0   \n",
        "5580         6          7 2015-07-26      0          0     0      0   \n",
        "5605        31          7 2015-07-26      0          0     0      0   \n",
        "5579         5          7 2015-07-26      0          0     0      0   \n",
        "5578         4          7 2015-07-26      0          0     0      0   \n",
        "5577         3          7 2015-07-26      0          0     0      0   \n",
        "5576         2          7 2015-07-26      0          0     0      0   \n",
        "5582         8          7 2015-07-26      0          0     0      0   \n",
        "5335       876          1 2015-07-27      0          0     0      1   \n",
        "4751       292          1 2015-07-27      0          0     0      1   \n",
        "4220       876          2 2015-07-28      0          0     0      1   \n",
        "3636       292          2 2015-07-28      0          0     0      1   \n",
        "3105       876          3 2015-07-29      0          0     0      1   \n",
        "2521       292          3 2015-07-29      0          0     0      1   \n",
        "1990       876          4 2015-07-30      0          0     0      1   \n",
        "1406       292          4 2015-07-30      0          0     0      1   \n",
        "875        876          5 2015-07-31      0          0     0      1   \n",
        "291        292          5 2015-07-31      0          0     0      1   \n",
        "\n",
        "        StateHoliday  SchoolHoliday  \n",
        "1017208            a              1  \n",
        "1017205            a              1  \n",
        "1017204            a              1  \n",
        "1017203            a              1  \n",
        "1017202            a              1  \n",
        "1017201            a              1  \n",
        "1017200            a              1  \n",
        "1017199            a              1  \n",
        "1017198            a              1  \n",
        "1017197            a              1  \n",
        "1017196            a              1  \n",
        "1017195            a              1  \n",
        "1017194            a              1  \n",
        "1017193            a              1  \n",
        "1017192            a              1  \n",
        "1017206            a              1  \n",
        "1017191            a              1  \n",
        "1017176            a              1  \n",
        "1017177            a              1  \n",
        "1017178            a              1  \n",
        "1017179            a              1  \n",
        "1017180            a              1  \n",
        "1017181            a              1  \n",
        "1017174            a              1  \n",
        "1017182            a              1  \n",
        "1017184            a              1  \n",
        "1017185            a              1  \n",
        "1017186            a              1  \n",
        "1017187            a              1  \n",
        "1017188            a              1  \n",
        "...              ...            ...  \n",
        "5602               0              0  \n",
        "5606               0              0  \n",
        "5597               0              0  \n",
        "5588               0              0  \n",
        "5603               0              0  \n",
        "5575               0              0  \n",
        "6130               0              0  \n",
        "5581               0              0  \n",
        "5587               0              0  \n",
        "5586               0              0  \n",
        "5584               0              1  \n",
        "5583               0              0  \n",
        "5585               0              0  \n",
        "5580               0              0  \n",
        "5605               0              0  \n",
        "5579               0              0  \n",
        "5578               0              0  \n",
        "5577               0              0  \n",
        "5576               0              0  \n",
        "5582               0              0  \n",
        "5335               0              1  \n",
        "4751               0              1  \n",
        "4220               0              1  \n",
        "3636               0              1  \n",
        "3105               0              1  \n",
        "2521               0              1  \n",
        "1990               0              1  \n",
        "1406               0              1  \n",
        "875                0              1  \n",
        "291                0              1  \n",
        "\n",
        "[172869 rows x 9 columns]\n"
       ]
      }
     ],
     "prompt_number": 119
    },
    {
     "cell_type": "code",
     "collapsed": false,
     "input": [
      "\n",
      "\n"
     ],
     "language": "python",
     "metadata": {},
     "outputs": [],
     "prompt_number": 126
    },
    {
     "cell_type": "code",
     "collapsed": false,
     "input": [
      "%matplotlib inline\n"
     ],
     "language": "python",
     "metadata": {},
     "outputs": [
      {
       "output_type": "stream",
       "stream": "stderr",
       "text": [
        "ERROR: Line magic function `%matplotlib` not found.\n"
       ]
      }
     ],
     "prompt_number": 127
    },
    {
     "cell_type": "code",
     "collapsed": false,
     "input": [
      "import IPython\n",
      "print IPython.sys_info()"
     ],
     "language": "python",
     "metadata": {},
     "outputs": [
      {
       "output_type": "stream",
       "stream": "stdout",
       "text": [
        "{'commit_hash': 'c433019',\n",
        " 'commit_source': 'installation',\n",
        " 'default_encoding': 'UTF-8',\n",
        " 'ipython_path': '/Applications/Canopy.app/appdata/canopy-1.0.3.1262.macosx-x86_64/Canopy.app/Contents/lib/python2.7/site-packages/IPython',\n",
        " 'ipython_version': '1.0.dev',\n",
        " 'os_name': 'posix',\n",
        " 'platform': 'Darwin-15.0.0-x86_64-i386-64bit',\n",
        " 'sys_executable': '/Users/vessilli/Library/Enthought/Canopy_64bit/User/bin/python',\n",
        " 'sys_platform': 'darwin',\n",
        " 'sys_version': '2.7.3 | 64-bit | (default, Jun 14 2013, 18:17:36) \\n[GCC 4.2.1 (Apple Inc. build 5666) (dot 3)]'}\n"
       ]
      }
     ],
     "prompt_number": 130
    },
    {
     "cell_type": "code",
     "collapsed": false,
     "input": [],
     "language": "python",
     "metadata": {},
     "outputs": []
    }
   ],
   "metadata": {}
  }
 ]
}