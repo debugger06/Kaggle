{
 "metadata": {
  "name": "Untitled0"
 },
 "nbformat": 3,
 "nbformat_minor": 0,
 "worksheets": [
  {
   "cells": [
    {
     "cell_type": "code",
     "collapsed": false,
     "input": [
      "import pandas as pd\n",
      "import numpy as np"
     ],
     "language": "python",
     "metadata": {},
     "outputs": [],
     "prompt_number": 1
    },
    {
     "cell_type": "code",
     "collapsed": false,
     "input": [
      "train = pd.read_csv(\"train.csv\",sep = ',')\n",
      "store = pd.read_csv(\"store.csv\",sep = ',')\n",
      "test = pd.read_csv(\"test.csv\",sep = ',')"
     ],
     "language": "python",
     "metadata": {},
     "outputs": [],
     "prompt_number": 12
    },
    {
     "cell_type": "code",
     "collapsed": false,
     "input": [
      "rtrain,ctrain = train.shape\n",
      "rtest,ctest = test.shape\n",
      "rstore,cstore = store.shape\n",
      "#print rtrain,ctrain\n",
      "#print rtest,ctest\n",
      "#print rstore,cstore"
     ],
     "language": "python",
     "metadata": {},
     "outputs": [
      {
       "output_type": "stream",
       "stream": "stdout",
       "text": [
        "1017209 9\n",
        "41088 8\n",
        "1115 10\n"
       ]
      }
     ],
     "prompt_number": 15
    },
    {
     "cell_type": "code",
     "collapsed": false,
     "input": [
      "print r/1115"
     ],
     "language": "python",
     "metadata": {},
     "outputs": [
      {
       "output_type": "stream",
       "stream": "stdout",
       "text": [
        "912\n"
       ]
      }
     ],
     "prompt_number": 9
    },
    {
     "cell_type": "code",
     "collapsed": false,
     "input": [
      "print train_df.head()"
     ],
     "language": "python",
     "metadata": {},
     "outputs": [
      {
       "output_type": "stream",
       "stream": "stdout",
       "text": [
        "   Store  DayOfWeek        Date  Sales  Customers  Open  Promo StateHoliday  \\\n",
        "0      1          5  2015-07-31   5263        555     1      1            0   \n",
        "1      2          5  2015-07-31   6064        625     1      1            0   \n",
        "2      3          5  2015-07-31   8314        821     1      1            0   \n",
        "3      4          5  2015-07-31  13995       1498     1      1            0   \n",
        "4      5          5  2015-07-31   4822        559     1      1            0   \n",
        "\n",
        "   SchoolHoliday  \n",
        "0              1  \n",
        "1              1  \n",
        "2              1  \n",
        "3              1  \n",
        "4              1  \n"
       ]
      }
     ],
     "prompt_number": 10
    },
    {
     "cell_type": "code",
     "collapsed": false,
     "input": [
      "print store_df.head()"
     ],
     "language": "python",
     "metadata": {},
     "outputs": [
      {
       "output_type": "stream",
       "stream": "stdout",
       "text": [
        "   Store StoreType Assortment  CompetitionDistance  CompetitionOpenSinceMonth  \\\n",
        "0      1         c          a                 1270                          9   \n",
        "1      2         a          a                  570                         11   \n",
        "2      3         a          a                14130                         12   \n",
        "3      4         c          c                  620                          9   \n",
        "4      5         a          a                29910                          4   \n",
        "\n",
        "   CompetitionOpenSinceYear  Promo2  Promo2SinceWeek  Promo2SinceYear  \\\n",
        "0                      2008       0              NaN              NaN   \n",
        "1                      2007       1               13             2010   \n",
        "2                      2006       1               14             2011   \n",
        "3                      2009       0              NaN              NaN   \n",
        "4                      2015       0              NaN              NaN   \n",
        "\n",
        "     PromoInterval  \n",
        "0              NaN  \n",
        "1  Jan,Apr,Jul,Oct  \n",
        "2  Jan,Apr,Jul,Oct  \n",
        "3              NaN  \n",
        "4              NaN  \n"
       ]
      }
     ],
     "prompt_number": 11
    },
    {
     "cell_type": "code",
     "collapsed": false,
     "input": [],
     "language": "python",
     "metadata": {},
     "outputs": []
    }
   ],
   "metadata": {}
  }
 ]
}